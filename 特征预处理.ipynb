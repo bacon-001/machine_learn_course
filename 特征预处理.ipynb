{
 "cells": [
  {
   "cell_type": "code",
   "execution_count": 1,
   "metadata": {},
   "outputs": [],
   "source": [
    "# 导入模块\n",
    "import pandas as pd\n",
    "from sklearn.preprocessing import MinMaxScaler"
   ]
  },
  {
   "cell_type": "code",
   "execution_count": 13,
   "metadata": {},
   "outputs": [
    {
     "data": {
      "text/html": [
       "<div>\n",
       "<style scoped>\n",
       "    .dataframe tbody tr th:only-of-type {\n",
       "        vertical-align: middle;\n",
       "    }\n",
       "\n",
       "    .dataframe tbody tr th {\n",
       "        vertical-align: top;\n",
       "    }\n",
       "\n",
       "    .dataframe thead th {\n",
       "        text-align: right;\n",
       "    }\n",
       "</style>\n",
       "<table border=\"1\" class=\"dataframe\">\n",
       "  <thead>\n",
       "    <tr style=\"text-align: right;\">\n",
       "      <th></th>\n",
       "      <th>milage</th>\n",
       "      <th>Liters</th>\n",
       "      <th>Consumtime</th>\n",
       "      <th>target</th>\n",
       "    </tr>\n",
       "  </thead>\n",
       "  <tbody>\n",
       "    <tr>\n",
       "      <th>0</th>\n",
       "      <td>40920</td>\n",
       "      <td>8.326976</td>\n",
       "      <td>0.953952</td>\n",
       "      <td>3</td>\n",
       "    </tr>\n",
       "    <tr>\n",
       "      <th>1</th>\n",
       "      <td>14488</td>\n",
       "      <td>7.153469</td>\n",
       "      <td>1.673904</td>\n",
       "      <td>2</td>\n",
       "    </tr>\n",
       "    <tr>\n",
       "      <th>2</th>\n",
       "      <td>26052</td>\n",
       "      <td>1.441871</td>\n",
       "      <td>0.805124</td>\n",
       "      <td>1</td>\n",
       "    </tr>\n",
       "    <tr>\n",
       "      <th>3</th>\n",
       "      <td>75136</td>\n",
       "      <td>13.147394</td>\n",
       "      <td>0.428964</td>\n",
       "      <td>1</td>\n",
       "    </tr>\n",
       "    <tr>\n",
       "      <th>4</th>\n",
       "      <td>38344</td>\n",
       "      <td>1.669788</td>\n",
       "      <td>0.134296</td>\n",
       "      <td>1</td>\n",
       "    </tr>\n",
       "  </tbody>\n",
       "</table>\n",
       "</div>"
      ],
      "text/plain": [
       "   milage     Liters  Consumtime  target\n",
       "0   40920   8.326976    0.953952       3\n",
       "1   14488   7.153469    1.673904       2\n",
       "2   26052   1.441871    0.805124       1\n",
       "3   75136  13.147394    0.428964       1\n",
       "4   38344   1.669788    0.134296       1"
      ]
     },
     "execution_count": 13,
     "metadata": {},
     "output_type": "execute_result"
    }
   ],
   "source": [
    "data = pd.read_csv(\"dating.txt\")\n",
    "data"
   ]
  },
  {
   "cell_type": "code",
   "execution_count": 6,
   "metadata": {},
   "outputs": [
    {
     "name": "stdout",
     "output_type": "stream",
     "text": [
      "特征预处理结果：\n",
      " [[2.43582641 2.58819286 2.53237967 3.        ]\n",
      " [2.         2.48794044 3.         2.5       ]\n",
      " [2.19067405 2.         2.43571351 2.        ]\n",
      " [3.         3.         2.19139157 2.        ]\n",
      " [2.3933518  2.01947089 2.         2.        ]]\n"
     ]
    }
   ],
   "source": [
    "# 转换数据\n",
    "transfer = MinMaxScaler(feature_range=(2,3))\n",
    "data = transfer.fit_transform(data[[\"milage\",\"Liters\",\"Consumtime\",\"target\"]])\n",
    "\n",
    "print(\"特征预处理结果：\\n\", data)"
   ]
  },
  {
   "cell_type": "code",
   "execution_count": 17,
   "metadata": {},
   "outputs": [
    {
     "name": "stdout",
     "output_type": "stream",
     "text": [
      "标准化后的数据：\n",
      " [[ 0.0947602   0.44990013  0.29573441  1.75      ]\n",
      " [-1.20166916  0.18312874  1.67200507  0.5       ]\n",
      " [-0.63448132 -1.11527928  0.01123265 -0.75      ]\n",
      " [ 1.77297701  1.54571769 -0.70784025 -0.75      ]\n",
      " [-0.03158673 -1.06346729 -1.27113187 -0.75      ]]\n",
      "标准化前的均值：\n",
      " [3.8988000e+04 6.3478996e+00 7.9924800e-01 1.6000000e+00]\n",
      "标准化前的方差：\n",
      " [4.15683072e+08 1.93505309e+01 2.73652475e-01 6.40000000e-01]\n",
      "标准化后的均值：\n",
      " [ 2.91433544e-17  8.88178420e-17  4.44089210e-17 -1.33226763e-16]\n",
      "标准化后的方差：\n",
      " [1. 1. 1. 1.]\n"
     ]
    }
   ],
   "source": [
    "from sklearn.preprocessing import StandardScaler\n",
    "import numpy as np\n",
    "\n",
    "data = pd.read_csv(\"dating.txt\")\n",
    "\n",
    "transfer = StandardScaler()\n",
    "data = transfer.fit_transform(data[[\"milage\",\"Liters\",\"Consumtime\",\"target\"]])\n",
    "\n",
    "print(\"标准化后的数据：\\n\", data)\n",
    "print(\"标准化前的均值：\\n\", transfer.mean_)\n",
    "print(\"标准化前的方差：\\n\", transfer.var_)\n",
    "print(\"标准化后的均值：\\n\", np.mean(data, axis=0)) # 按列计算\n",
    "print(\"标准化后的方差：\\n\", np.var(data, axis=0))  # 按列计算"
   ]
  }
 ],
 "metadata": {
  "kernelspec": {
   "display_name": ".venv",
   "language": "python",
   "name": "python3"
  },
  "language_info": {
   "codemirror_mode": {
    "name": "ipython",
    "version": 3
   },
   "file_extension": ".py",
   "mimetype": "text/x-python",
   "name": "python",
   "nbconvert_exporter": "python",
   "pygments_lexer": "ipython3",
   "version": "3.12.2"
  }
 },
 "nbformat": 4,
 "nbformat_minor": 2
}
