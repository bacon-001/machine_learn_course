{
 "cells": [
  {
   "cell_type": "code",
   "execution_count": 2,
   "metadata": {},
   "outputs": [
    {
     "data": {
      "text/html": [
       "<div>\n",
       "<style scoped>\n",
       "    .dataframe tbody tr th:only-of-type {\n",
       "        vertical-align: middle;\n",
       "    }\n",
       "\n",
       "    .dataframe tbody tr th {\n",
       "        vertical-align: top;\n",
       "    }\n",
       "\n",
       "    .dataframe thead th {\n",
       "        text-align: right;\n",
       "    }\n",
       "</style>\n",
       "<table border=\"1\" class=\"dataframe\">\n",
       "  <thead>\n",
       "    <tr style=\"text-align: right;\">\n",
       "      <th></th>\n",
       "      <th>row_id</th>\n",
       "      <th>x</th>\n",
       "      <th>y</th>\n",
       "      <th>accuracy</th>\n",
       "      <th>time</th>\n",
       "      <th>place_id</th>\n",
       "    </tr>\n",
       "  </thead>\n",
       "  <tbody>\n",
       "    <tr>\n",
       "      <th>0</th>\n",
       "      <td>0</td>\n",
       "      <td>0.7941</td>\n",
       "      <td>9.0809</td>\n",
       "      <td>54</td>\n",
       "      <td>470702</td>\n",
       "      <td>8523065625</td>\n",
       "    </tr>\n",
       "    <tr>\n",
       "      <th>1</th>\n",
       "      <td>1</td>\n",
       "      <td>5.9567</td>\n",
       "      <td>4.7968</td>\n",
       "      <td>13</td>\n",
       "      <td>186555</td>\n",
       "      <td>1757726713</td>\n",
       "    </tr>\n",
       "    <tr>\n",
       "      <th>2</th>\n",
       "      <td>2</td>\n",
       "      <td>8.3078</td>\n",
       "      <td>7.0407</td>\n",
       "      <td>74</td>\n",
       "      <td>322648</td>\n",
       "      <td>1137537235</td>\n",
       "    </tr>\n",
       "    <tr>\n",
       "      <th>3</th>\n",
       "      <td>3</td>\n",
       "      <td>7.3665</td>\n",
       "      <td>2.5165</td>\n",
       "      <td>65</td>\n",
       "      <td>704587</td>\n",
       "      <td>6567393236</td>\n",
       "    </tr>\n",
       "    <tr>\n",
       "      <th>4</th>\n",
       "      <td>4</td>\n",
       "      <td>4.0961</td>\n",
       "      <td>1.1307</td>\n",
       "      <td>31</td>\n",
       "      <td>472130</td>\n",
       "      <td>7440663949</td>\n",
       "    </tr>\n",
       "  </tbody>\n",
       "</table>\n",
       "</div>"
      ],
      "text/plain": [
       "   row_id       x       y  accuracy    time    place_id\n",
       "0       0  0.7941  9.0809        54  470702  8523065625\n",
       "1       1  5.9567  4.7968        13  186555  1757726713\n",
       "2       2  8.3078  7.0407        74  322648  1137537235\n",
       "3       3  7.3665  2.5165        65  704587  6567393236\n",
       "4       4  4.0961  1.1307        31  472130  7440663949"
      ]
     },
     "execution_count": 2,
     "metadata": {},
     "output_type": "execute_result"
    }
   ],
   "source": [
    "import pandas as pd\n",
    "from sklearn.preprocessing import StandardScaler\n",
    "from sklearn.neighbors import KNeighborsClassifier as knc\n",
    "from sklearn.model_selection import GridSearchCV\n",
    "\n",
    "\n",
    "# 数据下载来源：https://www.kaggle.com/competitions/facebook-v-predicting-check-ins/data?select=train.csv.zip\n",
    "# 新用户需要注册并手机号验证\n",
    "# 读取数据\n",
    "data = pd.read_csv(\"./data/FBLocation/train.csv\")\n",
    "\n",
    "data.head()"
   ]
  },
  {
   "cell_type": "code",
   "execution_count": 3,
   "metadata": {},
   "outputs": [
    {
     "name": "stdout",
     "output_type": "stream",
     "text": [
      "            row_id       x       y  accuracy    place_id\n",
      "600            600  1.2214  2.7023        17  6683426742\n",
      "957            957  1.1832  2.6891        58  6683426742\n",
      "4345          4345  1.1935  2.6550        11  6889790653\n",
      "4735          4735  1.1452  2.6074        49  6822359752\n",
      "5580          5580  1.0089  2.7287        19  1527921905\n",
      "...            ...     ...     ...       ...         ...\n",
      "29100203  29100203  1.0129  2.6775        12  3312463746\n",
      "29108443  29108443  1.1474  2.6840        36  3533177779\n",
      "29109993  29109993  1.0240  2.7238        62  6424972551\n",
      "29111539  29111539  1.2032  2.6796        87  3533177779\n",
      "29112154  29112154  1.1070  2.5419       178  4932578245\n",
      "\n",
      "[17710 rows x 5 columns]\n"
     ]
    }
   ],
   "source": [
    "# 数据的基本处理\n",
    "# 1. 缩小数据的范围\n",
    "# 使用pandas 中 query 函数完成数据集范围的缩小,query可以用类似sql的方式组合查询条件\n",
    "data = data.query('x>1.0 & x<1.25 & y>2.5 & y<2.75')\n",
    "\n",
    "# 2.删除不必要的信息，如时间戳 time\n",
    "data = data.drop(['time'],axis=1)\n",
    "\n",
    "print(data)"
   ]
  },
  {
   "cell_type": "code",
   "execution_count": 4,
   "metadata": {},
   "outputs": [],
   "source": [
    "place_counts = data.groupby(\"place_id\").count()"
   ]
  },
  {
   "cell_type": "code",
   "execution_count": 5,
   "metadata": {},
   "outputs": [
    {
     "data": {
      "text/html": [
       "<div>\n",
       "<style scoped>\n",
       "    .dataframe tbody tr th:only-of-type {\n",
       "        vertical-align: middle;\n",
       "    }\n",
       "\n",
       "    .dataframe tbody tr th {\n",
       "        vertical-align: top;\n",
       "    }\n",
       "\n",
       "    .dataframe thead th {\n",
       "        text-align: right;\n",
       "    }\n",
       "</style>\n",
       "<table border=\"1\" class=\"dataframe\">\n",
       "  <thead>\n",
       "    <tr style=\"text-align: right;\">\n",
       "      <th></th>\n",
       "      <th>row_id</th>\n",
       "      <th>x</th>\n",
       "      <th>y</th>\n",
       "      <th>accuracy</th>\n",
       "    </tr>\n",
       "    <tr>\n",
       "      <th>place_id</th>\n",
       "      <th></th>\n",
       "      <th></th>\n",
       "      <th></th>\n",
       "      <th></th>\n",
       "    </tr>\n",
       "  </thead>\n",
       "  <tbody>\n",
       "    <tr>\n",
       "      <th>1012023972</th>\n",
       "      <td>1</td>\n",
       "      <td>1</td>\n",
       "      <td>1</td>\n",
       "      <td>1</td>\n",
       "    </tr>\n",
       "    <tr>\n",
       "      <th>1057182134</th>\n",
       "      <td>1</td>\n",
       "      <td>1</td>\n",
       "      <td>1</td>\n",
       "      <td>1</td>\n",
       "    </tr>\n",
       "    <tr>\n",
       "      <th>1059958036</th>\n",
       "      <td>3</td>\n",
       "      <td>3</td>\n",
       "      <td>3</td>\n",
       "      <td>3</td>\n",
       "    </tr>\n",
       "    <tr>\n",
       "      <th>1085266789</th>\n",
       "      <td>1</td>\n",
       "      <td>1</td>\n",
       "      <td>1</td>\n",
       "      <td>1</td>\n",
       "    </tr>\n",
       "    <tr>\n",
       "      <th>1097200869</th>\n",
       "      <td>1044</td>\n",
       "      <td>1044</td>\n",
       "      <td>1044</td>\n",
       "      <td>1044</td>\n",
       "    </tr>\n",
       "    <tr>\n",
       "      <th>...</th>\n",
       "      <td>...</td>\n",
       "      <td>...</td>\n",
       "      <td>...</td>\n",
       "      <td>...</td>\n",
       "    </tr>\n",
       "    <tr>\n",
       "      <th>9904182060</th>\n",
       "      <td>1</td>\n",
       "      <td>1</td>\n",
       "      <td>1</td>\n",
       "      <td>1</td>\n",
       "    </tr>\n",
       "    <tr>\n",
       "      <th>9915093501</th>\n",
       "      <td>1</td>\n",
       "      <td>1</td>\n",
       "      <td>1</td>\n",
       "      <td>1</td>\n",
       "    </tr>\n",
       "    <tr>\n",
       "      <th>9946198589</th>\n",
       "      <td>1</td>\n",
       "      <td>1</td>\n",
       "      <td>1</td>\n",
       "      <td>1</td>\n",
       "    </tr>\n",
       "    <tr>\n",
       "      <th>9950190890</th>\n",
       "      <td>1</td>\n",
       "      <td>1</td>\n",
       "      <td>1</td>\n",
       "      <td>1</td>\n",
       "    </tr>\n",
       "    <tr>\n",
       "      <th>9980711012</th>\n",
       "      <td>5</td>\n",
       "      <td>5</td>\n",
       "      <td>5</td>\n",
       "      <td>5</td>\n",
       "    </tr>\n",
       "  </tbody>\n",
       "</table>\n",
       "<p>805 rows × 4 columns</p>\n",
       "</div>"
      ],
      "text/plain": [
       "            row_id     x     y  accuracy\n",
       "place_id                                \n",
       "1012023972       1     1     1         1\n",
       "1057182134       1     1     1         1\n",
       "1059958036       3     3     3         3\n",
       "1085266789       1     1     1         1\n",
       "1097200869    1044  1044  1044      1044\n",
       "...            ...   ...   ...       ...\n",
       "9904182060       1     1     1         1\n",
       "9915093501       1     1     1         1\n",
       "9946198589       1     1     1         1\n",
       "9950190890       1     1     1         1\n",
       "9980711012       5     5     5         5\n",
       "\n",
       "[805 rows x 4 columns]"
      ]
     },
     "execution_count": 5,
     "metadata": {},
     "output_type": "execute_result"
    }
   ],
   "source": [
    "place_counts\n",
    "# 数值代表着每一个位置有多少个人签到，每一行的各列数值相等！"
   ]
  },
  {
   "cell_type": "code",
   "execution_count": 6,
   "metadata": {},
   "outputs": [],
   "source": [
    "tf = place_counts[place_counts.row_id > 3].reset_index()\n",
    "# 筛选出 签到数> 3的位置，并把筛选后的数据的索引重新设置"
   ]
  },
  {
   "cell_type": "code",
   "execution_count": 7,
   "metadata": {},
   "outputs": [],
   "source": [
    "data = data[data[\"place_id\"].isin(tf[\"place_id\"])]"
   ]
  },
  {
   "cell_type": "code",
   "execution_count": 8,
   "metadata": {},
   "outputs": [],
   "source": [
    "y = data['place_id']  # 目标值为 place_id，即入住的地点\n",
    "x = data.drop(['place_id', 'row_id'], axis=1)  # 特征值，去除 place_id 和 row_id 列"
   ]
  },
  {
   "cell_type": "code",
   "execution_count": 9,
   "metadata": {},
   "outputs": [],
   "source": [
    "from sklearn.model_selection import train_test_split\n",
    "\n",
    "x_train, x_test, y_train, y_test = train_test_split(x, y, test_size=0.3)"
   ]
  },
  {
   "cell_type": "code",
   "execution_count": 10,
   "metadata": {},
   "outputs": [],
   "source": [
    "transfer = StandardScaler()\n",
    "\n",
    "x_train = transfer.fit_transform(x_train)\n",
    "x_test = transfer.fit_transform(x_test)"
   ]
  },
  {
   "cell_type": "code",
   "execution_count": 11,
   "metadata": {},
   "outputs": [
    {
     "name": "stdout",
     "output_type": "stream",
     "text": [
      "预测测试集类别： [5035268417 6683426742 5606572086 ... 2327054745 8048985799 7175032540]\n",
      "准确率为： 0.4087864460204886\n"
     ]
    }
   ],
   "source": [
    "knn = knc(n_neighbors = 1)\n",
    "\n",
    "# 通过训练集的特征值和目标值来拟合一个 k近邻分类器\n",
    "knn.fit(x_train,y_train)\n",
    "\n",
    "# 拟合完成后，分类器可以从测试集的特征值预测相应的目标值\n",
    "y_predict = knn.predict(x_test)\n",
    "\n",
    "print(\"预测测试集类别：\", y_predict)\n",
    "# 使用score返回给定测试数据和标签的平均准确度，前后两个参数就分别是测试集的特征值和目标值\n",
    "print(\"准确率为：\", knn.score(x_test, y_test))"
   ]
  },
  {
   "cell_type": "code",
   "execution_count": 12,
   "metadata": {},
   "outputs": [],
   "source": [
    "p = []\n",
    "for i in range(1,20):\n",
    "   knn = knc(n_neighbors = i)\n",
    "   knn.fit(x_train,y_train) \n",
    "   p.append(knn.score(x_test, y_test))"
   ]
  },
  {
   "cell_type": "code",
   "execution_count": 13,
   "metadata": {},
   "outputs": [
    {
     "data": {
      "text/plain": [
       "<function matplotlib.pyplot.show(close=None, block=None)>"
      ]
     },
     "execution_count": 13,
     "metadata": {},
     "output_type": "execute_result"
    },
    {
     "data": {
      "image/png": "[encoded data removed]",
      "text/plain": [
       "<Figure size 2000x800 with 1 Axes>"
      ]
     },
     "metadata": {},
     "output_type": "display_data"
    }
   ],
   "source": [
    "import matplotlib.pyplot as plt\n",
    "plt.figure(figsize=(20,8), dpi=100)\n",
    "plt.bar(range(1,len(p)+1),p)\n",
    "plt.plot(range(1,len(p)+1),p)\n",
    "plt.show\n"
   ]
  },
  {
   "cell_type": "code",
   "execution_count": 14,
   "metadata": {},
   "outputs": [
    {
     "name": "stdout",
     "output_type": "stream",
     "text": [
      "预测测试集类别： [2584530303 6683426742 5606572086 ... 2327054745 8048985799 6424972551]\n",
      "准确率为： 0.48936170212765956\n"
     ]
    }
   ],
   "source": [
    "knn = knc(n_neighbors = 130)\n",
    "\n",
    "# 通过训练集的特征值和目标值来拟合一个 k近邻分类器\n",
    "knn.fit(x_train,y_train)\n",
    "\n",
    "# 拟合完成后，分类器可以从测试集的特征值预测相应的目标值\n",
    "y_predict = knn.predict(x_test)\n",
    "\n",
    "print(\"预测测试集类别：\", y_predict)\n",
    "# 使用score返回给定测试数据和标签的平均准确度，前后两个参数就分别是测试集的特征值和目标值\n",
    "print(\"准确率为：\", knn.score(x_test, y_test))"
   ]
  },
  {
   "cell_type": "code",
   "execution_count": 17,
   "metadata": {},
   "outputs": [
    {
     "name": "stderr",
     "output_type": "stream",
     "text": [
      "/Users/bacon_tesla/MLLearn/02-分类算法/.venv/lib/python3.12/site-packages/sklearn/model_selection/_split.py:776: UserWarning: The least populated class in y has only 1 members, which is less than n_splits=2.\n",
      "  warnings.warn(\n"
     ]
    },
    {
     "name": "stdout",
     "output_type": "stream",
     "text": [
      "准确率： 0.5169424743892829\n",
      "交叉验证后最好的结果： 0.507177841580814\n",
      "gc选择的模型 k 值是： KNeighborsClassifier(n_neighbors=10)\n",
      "每次交叉验证的结果： {'mean_fit_time': array([0.00234544, 0.00154257, 0.00153995]), 'std_fit_time': array([6.18577003e-04, 4.69684601e-05, 4.69684601e-05]), 'mean_score_time': array([0.06297159, 0.06184411, 0.06514549]), 'std_score_time': array([0.00534129, 0.00116801, 0.00050068]), 'param_n_neighbors': masked_array(data=[3, 5, 10],\n",
      "             mask=[False, False, False],\n",
      "       fill_value=999999), 'params': [{'n_neighbors': 3}, {'n_neighbors': 5}, {'n_neighbors': 10}], 'split0_test_score': array([0.44350616, 0.48268874, 0.51004898]), 'split1_test_score': array([0.44299949, 0.47998649, 0.5043067 ]), 'mean_test_score': array([0.44325283, 0.48133761, 0.50717784]), 'std_test_score': array([0.00025334, 0.00135112, 0.00287114]), 'rank_test_score': array([3, 2, 1], dtype=int32)}\n"
     ]
    }
   ],
   "source": [
    "knn = knc()\n",
    "param = {\"n_neighbors\": [3,5,10]}\n",
    "\n",
    "gc = GridSearchCV(knn, param_grid=param, cv=2)\n",
    "# 表示网格搜索估计器会对k近邻分类器以设定的k值[3,5,10]进行估计，并采用 2 折交叉验证，即把数据分成两组，并进行两次评估\n",
    "gc.fit(x_train, y_train)\n",
    "\n",
    "print(\"准确率：\", gc.score(x_test, y_test))\n",
    "\n",
    "print(\"交叉验证后最好的结果：\", gc.best_score_)\n",
    "print(\"gc选择的模型 k 值是：\", gc.best_estimator_)\n",
    "print(\"每次交叉验证的结果：\", gc.cv_results_)"
   ]
  },
  {
   "cell_type": "code",
   "execution_count": null,
   "metadata": {},
   "outputs": [],
   "source": []
  }
 ],
 "metadata": {
  "kernelspec": {
   "display_name": ".venv",
   "language": "python",
   "name": "python3"
  },
  "language_info": {
   "codemirror_mode": {
    "name": "ipython",
    "version": 3
   },
   "file_extension": ".py",
   "mimetype": "text/x-python",
   "name": "python",
   "nbconvert_exporter": "python",
   "pygments_lexer": "ipython3",
   "version": "3.12.2"
  }
 },
 "nbformat": 4,
 "nbformat_minor": 2
}
