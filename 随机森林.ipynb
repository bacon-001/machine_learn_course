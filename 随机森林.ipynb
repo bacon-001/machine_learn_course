{
 "cells": [
  {
   "cell_type": "code",
   "execution_count": 5,
   "metadata": {},
   "outputs": [],
   "source": [
    "from sklearn.ensemble import RandomForestClassifier\n",
    "from sklearn.model_selection import GridSearchCV, train_test_split\n",
    "from sklearn.feature_extraction import DictVectorizer\n",
    "\n",
    "import pandas as pd"
   ]
  },
  {
   "cell_type": "code",
   "execution_count": 6,
   "metadata": {},
   "outputs": [
    {
     "name": "stdout",
     "output_type": "stream",
     "text": [
      "['age' 'pclass=1' 'pclass=2' 'pclass=3' 'sex=female' 'sex=male']\n"
     ]
    },
    {
     "name": "stderr",
     "output_type": "stream",
     "text": [
      "/var/folders/tw/qj_b1bnd3yl57fbv_39r1zw40000gn/T/ipykernel_47634/2822372568.py:10: FutureWarning: A value is trying to be set on a copy of a DataFrame or Series through chained assignment using an inplace method.\n",
      "The behavior will change in pandas 3.0. This inplace method will never work because the intermediate object on which we are setting values always behaves as a copy.\n",
      "\n",
      "For example, when doing 'df[col].method(value, inplace=True)', try using 'df.method({col: value}, inplace=True)' or df[col] = df[col].method(value) instead, to perform the operation inplace on the original object.\n",
      "\n",
      "\n",
      "  x[\"age\"].fillna(x[\"age\"].mean(), inplace =True)\n",
      "/var/folders/tw/qj_b1bnd3yl57fbv_39r1zw40000gn/T/ipykernel_47634/2822372568.py:10: SettingWithCopyWarning: \n",
      "A value is trying to be set on a copy of a slice from a DataFrame\n",
      "\n",
      "See the caveats in the documentation: https://pandas.pydata.org/pandas-docs/stable/user_guide/indexing.html#returning-a-view-versus-a-copy\n",
      "  x[\"age\"].fillna(x[\"age\"].mean(), inplace =True)\n",
      "/var/folders/tw/qj_b1bnd3yl57fbv_39r1zw40000gn/T/ipykernel_47634/2822372568.py:12: SettingWithCopyWarning: \n",
      "A value is trying to be set on a copy of a slice from a DataFrame.\n",
      "Try using .loc[row_indexer,col_indexer] = value instead\n",
      "\n",
      "See the caveats in the documentation: https://pandas.pydata.org/pandas-docs/stable/user_guide/indexing.html#returning-a-view-versus-a-copy\n",
      "  x[\"pclass\"] = x[\"pclass\"].astype(str)\n"
     ]
    }
   ],
   "source": [
    "titan = pd.read_csv(\"./data/titanic3.csv\")\n",
    "\n",
    "# feature\n",
    "x = titan[[\"pclass\",\"sex\",\"age\"]]\n",
    "\n",
    "# target\n",
    "y = titan[\"survived\"]\n",
    "\n",
    "# impute the NA in x.age\n",
    "x[\"age\"].fillna(x[\"age\"].mean(), inplace =True)\n",
    "\n",
    "x[\"pclass\"] = x[\"pclass\"].astype(str)\n",
    "\n",
    "\n",
    "# 实例化一个转换器\n",
    "transfer = DictVectorizer(sparse=False)\n",
    "\n",
    "x = transfer.fit_transform(x.to_dict(orient=\"records\"))\n",
    "\n",
    "print(transfer.get_feature_names_out())\n",
    "\n",
    "x_train, x_test, y_train, y_test = train_test_split(x,y,test_size=0.3)\n"
   ]
  },
  {
   "cell_type": "code",
   "execution_count": 8,
   "metadata": {},
   "outputs": [
    {
     "name": "stdout",
     "output_type": "stream",
     "text": [
      "随机森林预测的准确率为： 0.7964376590330788\n"
     ]
    }
   ],
   "source": [
    "rf = RandomForestClassifier()\n",
    "\n",
    "param = {\"n_estimators\": [100, 200, 300, 500,800,1200], \"max_depth\": [5, 8, 15, 25, 30]}\n",
    "\n",
    "gc = GridSearchCV(rf, param_grid=param, cv=2)\n",
    "\n",
    "gc.fit(x_train, y_train)\n",
    "\n",
    "print(\"随机森林预测的准确率为：\", gc.score(x_test, y_test))"
   ]
  },
  {
   "cell_type": "code",
   "execution_count": 10,
   "metadata": {},
   "outputs": [
    {
     "name": "stdout",
     "output_type": "stream",
     "text": [
      "最佳的模型为： RandomForestClassifier(max_depth=5)\n"
     ]
    }
   ],
   "source": [
    "print(\"最佳的模型为：\", gc.best_estimator_)"
   ]
  },
  {
   "cell_type": "code",
   "execution_count": 11,
   "metadata": {},
   "outputs": [
    {
     "name": "stdout",
     "output_type": "stream",
     "text": [
      "交叉验证的结果： {'mean_fit_time': array([0.04659545, 0.07672071, 0.11415911, 0.18189836, 0.29061699,\n",
      "       0.43555105, 0.03829551, 0.07626152, 0.11501062, 0.19127095,\n",
      "       0.30455387, 0.45834255, 0.03961504, 0.07830906, 0.11752295,\n",
      "       0.19628406, 0.3120271 , 0.46926391, 0.03913248, 0.07777715,\n",
      "       0.11730182, 0.19433129, 0.31142986, 0.4686445 , 0.03934765,\n",
      "       0.07823348, 0.11747932, 0.19553351, 0.3117038 , 0.4664824 ]), 'std_fit_time': array([7.64048100e-03, 1.83343887e-03, 4.90689278e-03, 2.42471695e-04,\n",
      "       1.28698349e-03, 4.30345535e-05, 2.90632248e-04, 1.26600266e-04,\n",
      "       5.16295433e-04, 1.37007236e-03, 1.20699406e-03, 3.79657745e-03,\n",
      "       5.01990318e-04, 5.92947006e-04, 7.67946243e-04, 8.52823257e-04,\n",
      "       2.15494633e-03, 4.26590443e-03, 4.91499901e-04, 3.07083130e-04,\n",
      "       9.65952873e-04, 1.38747692e-03, 2.04002857e-03, 1.91557407e-03,\n",
      "       3.14474106e-04, 2.89440155e-04, 8.94546509e-04, 1.62148476e-03,\n",
      "       3.13603878e-03, 4.14633751e-03]), 'mean_score_time': array([0.00276053, 0.00465524, 0.00659311, 0.01106417, 0.01746738,\n",
      "       0.0259316 , 0.00278735, 0.0053916 , 0.00803804, 0.01311719,\n",
      "       0.02081263, 0.03108788, 0.0030694 , 0.00588   , 0.00858903,\n",
      "       0.0141958 , 0.02266097, 0.03388798, 0.00308156, 0.005808  ,\n",
      "       0.00869668, 0.01420152, 0.02285445, 0.033916  , 0.00301588,\n",
      "       0.005705  , 0.00875461, 0.01428044, 0.02269423, 0.0337255 ]), 'std_score_time': array([4.75645065e-05, 1.18613243e-04, 7.30752945e-05, 9.19103622e-05,\n",
      "       6.85453415e-05, 8.94069672e-05, 6.43730164e-05, 4.24385071e-05,\n",
      "       2.21014023e-04, 2.29954720e-04, 3.18408012e-04, 4.38928604e-04,\n",
      "       6.24656677e-05, 9.69171524e-05, 2.05039978e-04, 3.38196754e-04,\n",
      "       4.32968140e-04, 7.26103783e-04, 1.65462494e-04, 9.31024551e-05,\n",
      "       1.76310539e-04, 3.01480293e-04, 3.01480293e-04, 4.42028046e-04,\n",
      "       1.07288361e-06, 5.49554825e-05, 1.68442726e-04, 2.35438347e-04,\n",
      "       3.86118889e-04, 4.95672226e-04]), 'param_max_depth': masked_array(data=[5, 5, 5, 5, 5, 5, 8, 8, 8, 8, 8, 8, 15, 15, 15, 15, 15,\n",
      "                   15, 25, 25, 25, 25, 25, 25, 30, 30, 30, 30, 30, 30],\n",
      "             mask=[False, False, False, False, False, False, False, False,\n",
      "                   False, False, False, False, False, False, False, False,\n",
      "                   False, False, False, False, False, False, False, False,\n",
      "                   False, False, False, False, False, False],\n",
      "       fill_value=999999), 'param_n_estimators': masked_array(data=[100, 200, 300, 500, 800, 1200, 100, 200, 300, 500, 800,\n",
      "                   1200, 100, 200, 300, 500, 800, 1200, 100, 200, 300,\n",
      "                   500, 800, 1200, 100, 200, 300, 500, 800, 1200],\n",
      "             mask=[False, False, False, False, False, False, False, False,\n",
      "                   False, False, False, False, False, False, False, False,\n",
      "                   False, False, False, False, False, False, False, False,\n",
      "                   False, False, False, False, False, False],\n",
      "       fill_value=999999), 'params': [{'max_depth': 5, 'n_estimators': 100}, {'max_depth': 5, 'n_estimators': 200}, {'max_depth': 5, 'n_estimators': 300}, {'max_depth': 5, 'n_estimators': 500}, {'max_depth': 5, 'n_estimators': 800}, {'max_depth': 5, 'n_estimators': 1200}, {'max_depth': 8, 'n_estimators': 100}, {'max_depth': 8, 'n_estimators': 200}, {'max_depth': 8, 'n_estimators': 300}, {'max_depth': 8, 'n_estimators': 500}, {'max_depth': 8, 'n_estimators': 800}, {'max_depth': 8, 'n_estimators': 1200}, {'max_depth': 15, 'n_estimators': 100}, {'max_depth': 15, 'n_estimators': 200}, {'max_depth': 15, 'n_estimators': 300}, {'max_depth': 15, 'n_estimators': 500}, {'max_depth': 15, 'n_estimators': 800}, {'max_depth': 15, 'n_estimators': 1200}, {'max_depth': 25, 'n_estimators': 100}, {'max_depth': 25, 'n_estimators': 200}, {'max_depth': 25, 'n_estimators': 300}, {'max_depth': 25, 'n_estimators': 500}, {'max_depth': 25, 'n_estimators': 800}, {'max_depth': 25, 'n_estimators': 1200}, {'max_depth': 30, 'n_estimators': 100}, {'max_depth': 30, 'n_estimators': 200}, {'max_depth': 30, 'n_estimators': 300}, {'max_depth': 30, 'n_estimators': 500}, {'max_depth': 30, 'n_estimators': 800}, {'max_depth': 30, 'n_estimators': 1200}], 'split0_test_score': array([0.78820961, 0.78384279, 0.7860262 , 0.78820961, 0.7860262 ,\n",
      "       0.78384279, 0.75327511, 0.7510917 , 0.75545852, 0.7510917 ,\n",
      "       0.75327511, 0.75327511, 0.75545852, 0.75327511, 0.75545852,\n",
      "       0.75545852, 0.75545852, 0.75327511, 0.7510917 , 0.7510917 ,\n",
      "       0.75327511, 0.75327511, 0.7510917 , 0.75327511, 0.75327511,\n",
      "       0.75982533, 0.75327511, 0.75327511, 0.75327511, 0.75327511]), 'split1_test_score': array([0.77729258, 0.77292576, 0.77074236, 0.76855895, 0.77510917,\n",
      "       0.77510917, 0.75982533, 0.76200873, 0.76200873, 0.76200873,\n",
      "       0.76200873, 0.76200873, 0.75982533, 0.73799127, 0.75982533,\n",
      "       0.75327511, 0.75327511, 0.75982533, 0.75764192, 0.75982533,\n",
      "       0.75327511, 0.75327511, 0.75327511, 0.75982533, 0.74454148,\n",
      "       0.75982533, 0.73799127, 0.74454148, 0.75982533, 0.75982533]), 'mean_test_score': array([0.78275109, 0.77838428, 0.77838428, 0.77838428, 0.78056769,\n",
      "       0.77947598, 0.75655022, 0.75655022, 0.75873362, 0.75655022,\n",
      "       0.75764192, 0.75764192, 0.75764192, 0.74563319, 0.75764192,\n",
      "       0.75436681, 0.75436681, 0.75655022, 0.75436681, 0.75545852,\n",
      "       0.75327511, 0.75327511, 0.75218341, 0.75655022, 0.7489083 ,\n",
      "       0.75982533, 0.74563319, 0.7489083 , 0.75655022, 0.75655022]), 'std_test_score': array([0.00545852, 0.00545852, 0.00764192, 0.00982533, 0.00545852,\n",
      "       0.00436681, 0.00327511, 0.00545852, 0.00327511, 0.00545852,\n",
      "       0.00436681, 0.00436681, 0.00218341, 0.00764192, 0.00218341,\n",
      "       0.0010917 , 0.0010917 , 0.00327511, 0.00327511, 0.00436681,\n",
      "       0.        , 0.        , 0.0010917 , 0.00327511, 0.00436681,\n",
      "       0.        , 0.00764192, 0.00436681, 0.00327511, 0.00327511]), 'rank_test_score': array([ 1,  4,  4,  4,  2,  3, 13, 18,  8, 18,  9,  9,  9, 29,  9, 21, 21,\n",
      "       13, 21, 20, 24, 24, 26, 13, 27,  7, 29, 27, 13, 13], dtype=int32)}\n"
     ]
    }
   ],
   "source": [
    "print(\"交叉验证的结果：\", gc.cv_results_)"
   ]
  }
 ],
 "metadata": {
  "kernelspec": {
   "display_name": ".venv",
   "language": "python",
   "name": "python3"
  },
  "language_info": {
   "codemirror_mode": {
    "name": "ipython",
    "version": 3
   },
   "file_extension": ".py",
   "mimetype": "text/x-python",
   "name": "python",
   "nbconvert_exporter": "python",
   "pygments_lexer": "ipython3",
   "version": "3.12.2"
  }
 },
 "nbformat": 4,
 "nbformat_minor": 2
}
