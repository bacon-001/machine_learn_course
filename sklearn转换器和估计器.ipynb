{
 "cells": [
  {
   "cell_type": "code",
   "execution_count": 6,
   "metadata": {},
   "outputs": [
    {
     "name": "stdout",
     "output_type": "stream",
     "text": [
      "[[-1. -1. -1.]\n",
      " [ 1.  1.  1.]] [[-1. -1. -1.]\n",
      " [ 1.  1.  1.]]\n"
     ]
    }
   ],
   "source": [
    "from sklearn.preprocessing import StandardScaler\n",
    "\n",
    "data = [[1,2,3],[4,5,6]]\n",
    "\n",
    "# 实例化一个转换器\n",
    "transfer = StandardScaler()\n",
    "\n",
    "# 分步使用 fit 以及 transform\n",
    "# fit\n",
    "data_fitted = transfer.fit(data)\n",
    "\n",
    "# transform\n",
    "##### transform 之前必须要经过 fit 才能运行\n",
    "data_transformed = transfer.transform(data)\n",
    "\n",
    "# 同时 fit 和 transform\n",
    "data_fitted_transformed = transfer.fit_transform(data)\n",
    "\n",
    "print(data_transformed, data_fitted_transformed)"
   ]
  },
  {
   "cell_type": "code",
   "execution_count": 10,
   "metadata": {},
   "outputs": [
    {
     "data": {
      "text/plain": [
       "array([[-1., -1., -1.],\n",
       "       [ 1.,  1.,  1.]])"
      ]
     },
     "execution_count": 10,
     "metadata": {},
     "output_type": "execute_result"
    }
   ],
   "source": [
    "b = [[7,8,9],[10,11,12]]\n",
    "# 实例化一个转换器\n",
    "transfer = StandardScaler()\n",
    "transfer.fit(b)\n",
    "transfer.transform(b)"
   ]
  },
  {
   "cell_type": "code",
   "execution_count": null,
   "metadata": {},
   "outputs": [],
   "source": []
  }
 ],
 "metadata": {
  "kernelspec": {
   "display_name": ".venv",
   "language": "python",
   "name": "python3"
  },
  "language_info": {
   "codemirror_mode": {
    "name": "ipython",
    "version": 3
   },
   "file_extension": ".py",
   "mimetype": "text/x-python",
   "name": "python",
   "nbconvert_exporter": "python",
   "pygments_lexer": "ipython3",
   "version": "3.12.2"
  }
 },
 "nbformat": 4,
 "nbformat_minor": 2
}
